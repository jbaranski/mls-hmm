{
 "cells": [
  {
   "cell_type": "code",
   "execution_count": 16,
   "metadata": {},
   "outputs": [
    {
     "name": "stderr",
     "output_type": "stream",
     "text": [
      "Fitting a model with 7 free scalar parameters with only 6 data points will result in a degenerate solution.\n"
     ]
    },
    {
     "name": "stdout",
     "output_type": "stream",
     "text": [
      "Bob says: walk, clean, shop, shop, clean, walk\n",
      "Alice hears: Sunny, Rainy, Rainy, Rainy, Rainy, Sunny\n"
     ]
    }
   ],
   "source": [
    "import numpy as np\n",
    "from hmmlearn import hmm\n",
    "\n",
    "states = [\"Rainy\", \"Sunny\"]\n",
    "n_states = len(states)\n",
    "\n",
    "observations = [\"walk\", \"shop\", \"clean\"]\n",
    "n_observations = len(observations)\n",
    "\n",
    "model = hmm.MultinomialHMM(n_components=n_states, init_params=\"\")\n",
    "model.startprob_ = np.array([0.6, 0.4])\n",
    "model.transmat_ = np.array([\n",
    "  [0.7, 0.3],\n",
    "  [0.4, 0.6]\n",
    "])\n",
    "model.emissionprob_ = np.array([\n",
    "  [0.1, 0.4, 0.5],\n",
    "  [0.6, 0.3, 0.1]\n",
    "])\n",
    "\n",
    "# predict a sequence of hidden states based on visible states\n",
    "bob_says = np.array([[0, 2, 1, 1, 2, 0]]).T\n",
    "\n",
    "model = model.fit(bob_says)\n",
    "logprob, alice_hears = model.decode(bob_says, algorithm=\"viterbi\")\n",
    "print(\"Bob says:\", \", \".join(map(lambda x: observations[int(x)], bob_says)))\n",
    "print(\"Alice hears:\", \", \".join(map(lambda x: states[int(x)], alice_hears)))"
   ]
  }
 ],
 "metadata": {
  "interpreter": {
   "hash": "d55684d20034f7cd7c7d438d08c296a7a4c9512685e8f35e1063648d9064c801"
  },
  "kernelspec": {
   "display_name": "Python 3.9.5 64-bit",
   "language": "python",
   "name": "python3"
  },
  "language_info": {
   "codemirror_mode": {
    "name": "ipython",
    "version": 3
   },
   "file_extension": ".py",
   "mimetype": "text/x-python",
   "name": "python",
   "nbconvert_exporter": "python",
   "pygments_lexer": "ipython3",
   "version": "3.9.5"
  },
  "orig_nbformat": 4
 },
 "nbformat": 4,
 "nbformat_minor": 2
}

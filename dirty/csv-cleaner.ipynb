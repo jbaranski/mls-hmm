{
 "cells": [
  {
   "cell_type": "code",
   "execution_count": 6,
   "metadata": {},
   "outputs": [],
   "source": [
    "import os\n",
    "import shutil\n",
    "\n",
    "NEWLINE = '\\n'\n",
    "\n",
    "shutil.rmtree('../csv', ignore_errors=True)\n",
    "os.makedirs('../csv')\n",
    "\n",
    "files = os.listdir('.')\n",
    "for file in files:\n",
    "  with open(f\"{file}\", 'r') as f:\n",
    "    output_data = []\n",
    "    input_data = f.readlines()\n",
    "    for i in range(0, len(input_data), 3):\n",
    "      year = '2021' if i/3 < 34 else '2022'\n",
    "      if i + 2 < len(input_data):\n",
    "        line = f\"{input_data[i].replace(NEWLINE, '')},{input_data[i + 1].replace(NEWLINE, '')},{input_data[i + 2].replace(NEWLINE, '')},{year}\\n\"\n",
    "        output_data.append(line)\n",
    "\n",
    "  with open(f\"../csv/{file.replace('.txt', '.csv')}\", 'w') as f:\n",
    "    f.write('State,Opponent,Score,Season\\n')\n",
    "    for x in output_data:\n",
    "      f.write(x)"
   ]
  }
 ],
 "metadata": {
  "interpreter": {
   "hash": "d55684d20034f7cd7c7d438d08c296a7a4c9512685e8f35e1063648d9064c801"
  },
  "kernelspec": {
   "display_name": "Python 3.9.5 64-bit",
   "language": "python",
   "name": "python3"
  },
  "language_info": {
   "codemirror_mode": {
    "name": "ipython",
    "version": 3
   },
   "file_extension": ".py",
   "mimetype": "text/x-python",
   "name": "python",
   "nbconvert_exporter": "python",
   "pygments_lexer": "ipython3",
   "version": "3.9.5"
  },
  "orig_nbformat": 4
 },
 "nbformat": 4,
 "nbformat_minor": 2
}
